{
 "cells": [
  {
   "cell_type": "code",
   "execution_count": 2,
   "metadata": {},
   "outputs": [
    {
     "name": "stderr",
     "output_type": "stream",
     "text": [
      "C:\\Users\\ACER\\AppData\\Local\\Temp\\ipykernel_5116\\4081499552.py:3: DeprecationWarning: \n",
      "Pyarrow will become a required dependency of pandas in the next major release of pandas (pandas 3.0),\n",
      "(to allow more performant data types, such as the Arrow string type, and better interoperability with other libraries)\n",
      "but was not found to be installed on your system.\n",
      "If this would cause problems for you,\n",
      "please provide us feedback at https://github.com/pandas-dev/pandas/issues/54466\n",
      "        \n",
      "  import pandas as pd\n"
     ]
    }
   ],
   "source": [
    "import numpy as np\n",
    "import matplotlib.pyplot as plt\n",
    "import pandas as pd\n",
    "from sklearn.compose import ColumnTransformer \n",
    "from sklearn.preprocessing import OneHotEncoder \n",
    "from sklearn.model_selection import train_test_split \n",
    "from sklearn.linear_model import LinearRegression \n",
    "from sklearn.preprocessing import PolynomialFeatures \n"
   ]
  },
  {
   "cell_type": "code",
   "execution_count": 3,
   "metadata": {},
   "outputs": [
    {
     "data": {
      "text/html": [
       "<div>\n",
       "<style scoped>\n",
       "    .dataframe tbody tr th:only-of-type {\n",
       "        vertical-align: middle;\n",
       "    }\n",
       "\n",
       "    .dataframe tbody tr th {\n",
       "        vertical-align: top;\n",
       "    }\n",
       "\n",
       "    .dataframe thead th {\n",
       "        text-align: right;\n",
       "    }\n",
       "</style>\n",
       "<table border=\"1\" class=\"dataframe\">\n",
       "  <thead>\n",
       "    <tr style=\"text-align: right;\">\n",
       "      <th></th>\n",
       "      <th>TV</th>\n",
       "      <th>radio</th>\n",
       "      <th>newspaper</th>\n",
       "    </tr>\n",
       "  </thead>\n",
       "  <tbody>\n",
       "    <tr>\n",
       "      <th>0</th>\n",
       "      <td>230.1</td>\n",
       "      <td>37.8</td>\n",
       "      <td>69.2</td>\n",
       "    </tr>\n",
       "    <tr>\n",
       "      <th>1</th>\n",
       "      <td>44.5</td>\n",
       "      <td>39.3</td>\n",
       "      <td>45.1</td>\n",
       "    </tr>\n",
       "    <tr>\n",
       "      <th>2</th>\n",
       "      <td>17.2</td>\n",
       "      <td>45.9</td>\n",
       "      <td>69.3</td>\n",
       "    </tr>\n",
       "    <tr>\n",
       "      <th>3</th>\n",
       "      <td>151.5</td>\n",
       "      <td>41.3</td>\n",
       "      <td>58.5</td>\n",
       "    </tr>\n",
       "    <tr>\n",
       "      <th>4</th>\n",
       "      <td>180.8</td>\n",
       "      <td>10.8</td>\n",
       "      <td>58.4</td>\n",
       "    </tr>\n",
       "    <tr>\n",
       "      <th>...</th>\n",
       "      <td>...</td>\n",
       "      <td>...</td>\n",
       "      <td>...</td>\n",
       "    </tr>\n",
       "    <tr>\n",
       "      <th>195</th>\n",
       "      <td>38.2</td>\n",
       "      <td>3.7</td>\n",
       "      <td>13.8</td>\n",
       "    </tr>\n",
       "    <tr>\n",
       "      <th>196</th>\n",
       "      <td>94.2</td>\n",
       "      <td>4.9</td>\n",
       "      <td>8.1</td>\n",
       "    </tr>\n",
       "    <tr>\n",
       "      <th>197</th>\n",
       "      <td>177.0</td>\n",
       "      <td>9.3</td>\n",
       "      <td>6.4</td>\n",
       "    </tr>\n",
       "    <tr>\n",
       "      <th>198</th>\n",
       "      <td>283.6</td>\n",
       "      <td>42.0</td>\n",
       "      <td>66.2</td>\n",
       "    </tr>\n",
       "    <tr>\n",
       "      <th>199</th>\n",
       "      <td>232.1</td>\n",
       "      <td>8.6</td>\n",
       "      <td>8.7</td>\n",
       "    </tr>\n",
       "  </tbody>\n",
       "</table>\n",
       "<p>200 rows × 3 columns</p>\n",
       "</div>"
      ],
      "text/plain": [
       "        TV  radio  newspaper\n",
       "0    230.1   37.8       69.2\n",
       "1     44.5   39.3       45.1\n",
       "2     17.2   45.9       69.3\n",
       "3    151.5   41.3       58.5\n",
       "4    180.8   10.8       58.4\n",
       "..     ...    ...        ...\n",
       "195   38.2    3.7       13.8\n",
       "196   94.2    4.9        8.1\n",
       "197  177.0    9.3        6.4\n",
       "198  283.6   42.0       66.2\n",
       "199  232.1    8.6        8.7\n",
       "\n",
       "[200 rows x 3 columns]"
      ]
     },
     "metadata": {},
     "output_type": "display_data"
    }
   ],
   "source": [
    "data = pd.read_csv('Advertising.csv')\n",
    "y = data[\"sales\"]\n",
    "X = data.drop(\"sales\", axis = 1)\n",
    "display(X)\n",
    "\n",
    "X_train, X_test, y_train, y_test = train_test_split(X, y, test_size = 0.2, random_state = 0)"
   ]
  },
  {
   "cell_type": "code",
   "execution_count": 4,
   "metadata": {},
   "outputs": [
    {
     "name": "stdout",
     "output_type": "stream",
     "text": [
      "[ 3.93275880e+00  0.00000000e+00  8.76482588e-02  3.72759136e-02\n",
      "  1.26232641e-02 -4.09838302e-04  1.14180955e-03 -1.14101813e-04\n",
      "  4.48823346e-04 -1.09477651e-03  3.75327955e-04  6.69859207e-07\n",
      " -2.97817932e-08  3.79449339e-07 -2.87513326e-06  1.49042791e-06\n",
      " -9.19461338e-07  7.97246735e-07  6.82735293e-06  2.82668527e-06\n",
      " -2.15653062e-06]\n",
      "0.99464611853533\n",
      "0.9786416802545972\n",
      "Mean Absolute Error (MAE): 0.4219460128058696\n",
      "Mean Squared Error (MSE): 0.672134441822469\n",
      "Root Mean Squared Error (RMSE): 0.8198380582910683\n"
     ]
    },
    {
     "name": "stderr",
     "output_type": "stream",
     "text": [
      "c:\\Users\\ACER\\Desktop\\IBDA2032\\venv\\Lib\\site-packages\\sklearn\\metrics\\_regression.py:483: FutureWarning: 'squared' is deprecated in version 1.4 and will be removed in 1.6. To calculate the root mean squared error, use the function'root_mean_squared_error'.\n",
      "  warnings.warn(\n"
     ]
    }
   ],
   "source": [
    "poly = PolynomialFeatures(degree = 3) \n",
    "X_train_poly = poly.fit_transform(X_train) \n",
    "X_test_poly = poly.fit_transform(X_test) \n",
    "reg = LinearRegression() \n",
    "reg.fit(X_train_poly, y_train)\n",
    "\n",
    "theta0 = reg.intercept_\n",
    "theta_lainnya = reg.coef_\n",
    "theta = np.append(theta0, theta_lainnya)\n",
    "print(theta)\n",
    "\n",
    "print(reg.score(X_train_poly, y_train))\n",
    "print(reg.score(X_test_poly, y_test))\n",
    "\n",
    "y_predict_test_poly = reg.predict(X_test_poly)\n",
    "np.vstack((y_predict_test_poly, np.array(y_test))).T\n",
    "\n",
    "from sklearn.metrics import mean_absolute_error, mean_squared_error\n",
    "\n",
    "# Mean Absolute Error (MAE)\n",
    "mae = mean_absolute_error(y_test, y_predict_test_poly)\n",
    "print(f'Mean Absolute Error (MAE): {mae}')\n",
    "\n",
    "# Mean Squared Error (MSE)\n",
    "mse = mean_squared_error(y_test, y_predict_test_poly)\n",
    "print(f'Mean Squared Error (MSE): {mse}')\n",
    "\n",
    "# Root Mean Squared Error (RMSE)\n",
    "rmse = mean_squared_error(y_test, y_predict_test_poly, squared=False)\n",
    "print(f'Root Mean Squared Error (RMSE): {rmse}')"
   ]
  },
  {
   "cell_type": "code",
   "execution_count": 5,
   "metadata": {},
   "outputs": [
    {
     "name": "stdout",
     "output_type": "stream",
     "text": [
      "0.8601145185017869\n",
      "0.9715371723181603\n",
      "0.9786416802545972\n",
      "0.978574220420377\n",
      "0.42046691790828683\n",
      "-45.98904903710799\n",
      "-2347.925023351543\n",
      "-26680.71899882562\n",
      "-2953259092.6872926\n",
      "-39691542397.43847\n",
      "-192550643477.58902\n",
      "-279273344318.282\n",
      "-2221429046.1885843\n",
      "-246502710760.4001\n",
      "-45080104164.05138\n",
      "-2978965407.045656\n",
      "-17617530299.29624\n",
      "-105001040242.53198\n",
      "-9429110811.140312\n",
      "-1779289972.041243\n",
      "(3, 0.9786416802545972)\n"
     ]
    }
   ],
   "source": [
    "def bonus(X_train, X_test, y_train, y_test):\n",
    "    min_score = (None, 0)\n",
    "    reg = LinearRegression() \n",
    "\n",
    "    for i in range(1, 21):\n",
    "        poly = PolynomialFeatures(degree = i) \n",
    "        X_train_poly = poly.fit_transform(X_train) \n",
    "        X_test_poly = poly.fit_transform(X_test) \n",
    "        reg.fit(X_train_poly, y_train)\n",
    "        \n",
    "        score = reg.score((X_test_poly), y_test)\n",
    "        print(score)\n",
    "\n",
    "        if score > min_score[1]:\n",
    "            min_score = (i, score)\n",
    "\n",
    "    return min_score\n",
    "\n",
    "print(bonus(X_train, X_test, y_train, y_test))"
   ]
  }
 ],
 "metadata": {
  "kernelspec": {
   "display_name": "venv",
   "language": "python",
   "name": "python3"
  },
  "language_info": {
   "codemirror_mode": {
    "name": "ipython",
    "version": 3
   },
   "file_extension": ".py",
   "mimetype": "text/x-python",
   "name": "python",
   "nbconvert_exporter": "python",
   "pygments_lexer": "ipython3",
   "version": "3.11.5"
  }
 },
 "nbformat": 4,
 "nbformat_minor": 2
}
